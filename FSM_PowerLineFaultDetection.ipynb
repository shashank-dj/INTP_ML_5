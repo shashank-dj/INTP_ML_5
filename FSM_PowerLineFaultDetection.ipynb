{
  "cells": [
    {
      "cell_type": "markdown",
      "metadata": {
        "id": "QAiF7jWGBzQa"
      },
      "source": [
        "# VSB Power Grid Fault Detection"
      ]
    },
    {
      "cell_type": "code",
      "execution_count": null,
      "metadata": {
        "id": "Nx5mo6XIBzQi"
      },
      "outputs": [],
      "source": [
        "# Importing Libraries\n",
        "\n",
        "import numpy as np \n",
        "import pandas as pd \n",
        "import pyarrow.parquet as pq \n",
        "import matplotlib.pyplot as plt\n",
        "import seaborn as sns\n",
        "import os\n"
      ]
    },
    {
      "cell_type": "code",
      "execution_count": null,
      "metadata": {
        "id": "F-ZI7yQLBzQk"
      },
      "outputs": [],
      "source": [
        "INIT_DIR = '../input'\n",
        "SIZE = 2001"
      ]
    },
    {
      "cell_type": "code",
      "execution_count": null,
      "metadata": {
        "id": "GJ3XQFKQBzQk"
      },
      "outputs": [],
      "source": [
        "train = pq.read_pandas(os.path.join(INIT_DIR, 'vsb-power-line-fault-detection/train.parquet'), columns=[str(i) for i in range(SIZE)]).to_pandas()\n",
        "metadata = pd.read_csv('../input/vsb-power-line-fault-detection/metadata_train.csv')"
      ]
    },
    {
      "cell_type": "code",
      "execution_count": null,
      "metadata": {
        "id": "-GDp-WSVBzQl",
        "outputId": "b01d5f9b-e8f9-485f-f416-a241e0eba329"
      },
      "outputs": [
        {
          "data": {
            "text/html": [
              "<div>\n",
              "<style scoped>\n",
              "    .dataframe tbody tr th:only-of-type {\n",
              "        vertical-align: middle;\n",
              "    }\n",
              "\n",
              "    .dataframe tbody tr th {\n",
              "        vertical-align: top;\n",
              "    }\n",
              "\n",
              "    .dataframe thead th {\n",
              "        text-align: right;\n",
              "    }\n",
              "</style>\n",
              "<table border=\"1\" class=\"dataframe\">\n",
              "  <thead>\n",
              "    <tr style=\"text-align: right;\">\n",
              "      <th></th>\n",
              "      <th>0</th>\n",
              "      <th>1</th>\n",
              "      <th>2</th>\n",
              "      <th>3</th>\n",
              "      <th>4</th>\n",
              "      <th>5</th>\n",
              "      <th>6</th>\n",
              "      <th>7</th>\n",
              "      <th>8</th>\n",
              "      <th>9</th>\n",
              "      <th>...</th>\n",
              "      <th>1991</th>\n",
              "      <th>1992</th>\n",
              "      <th>1993</th>\n",
              "      <th>1994</th>\n",
              "      <th>1995</th>\n",
              "      <th>1996</th>\n",
              "      <th>1997</th>\n",
              "      <th>1998</th>\n",
              "      <th>1999</th>\n",
              "      <th>2000</th>\n",
              "    </tr>\n",
              "  </thead>\n",
              "  <tbody>\n",
              "    <tr>\n",
              "      <th>0</th>\n",
              "      <td>18</td>\n",
              "      <td>1</td>\n",
              "      <td>-19</td>\n",
              "      <td>-16</td>\n",
              "      <td>-5</td>\n",
              "      <td>19</td>\n",
              "      <td>-15</td>\n",
              "      <td>15</td>\n",
              "      <td>-1</td>\n",
              "      <td>-16</td>\n",
              "      <td>...</td>\n",
              "      <td>-9</td>\n",
              "      <td>12</td>\n",
              "      <td>-18</td>\n",
              "      <td>6</td>\n",
              "      <td>-12</td>\n",
              "      <td>17</td>\n",
              "      <td>-7</td>\n",
              "      <td>-16</td>\n",
              "      <td>16</td>\n",
              "      <td>-4</td>\n",
              "    </tr>\n",
              "    <tr>\n",
              "      <th>1</th>\n",
              "      <td>18</td>\n",
              "      <td>0</td>\n",
              "      <td>-19</td>\n",
              "      <td>-17</td>\n",
              "      <td>-6</td>\n",
              "      <td>19</td>\n",
              "      <td>-17</td>\n",
              "      <td>16</td>\n",
              "      <td>0</td>\n",
              "      <td>-15</td>\n",
              "      <td>...</td>\n",
              "      <td>-9</td>\n",
              "      <td>11</td>\n",
              "      <td>-19</td>\n",
              "      <td>7</td>\n",
              "      <td>-12</td>\n",
              "      <td>17</td>\n",
              "      <td>-8</td>\n",
              "      <td>-16</td>\n",
              "      <td>16</td>\n",
              "      <td>-4</td>\n",
              "    </tr>\n",
              "    <tr>\n",
              "      <th>2</th>\n",
              "      <td>17</td>\n",
              "      <td>-1</td>\n",
              "      <td>-20</td>\n",
              "      <td>-17</td>\n",
              "      <td>-6</td>\n",
              "      <td>19</td>\n",
              "      <td>-17</td>\n",
              "      <td>15</td>\n",
              "      <td>-3</td>\n",
              "      <td>-15</td>\n",
              "      <td>...</td>\n",
              "      <td>-9</td>\n",
              "      <td>11</td>\n",
              "      <td>-20</td>\n",
              "      <td>4</td>\n",
              "      <td>-13</td>\n",
              "      <td>17</td>\n",
              "      <td>-8</td>\n",
              "      <td>-17</td>\n",
              "      <td>16</td>\n",
              "      <td>-5</td>\n",
              "    </tr>\n",
              "    <tr>\n",
              "      <th>3</th>\n",
              "      <td>18</td>\n",
              "      <td>1</td>\n",
              "      <td>-19</td>\n",
              "      <td>-16</td>\n",
              "      <td>-5</td>\n",
              "      <td>20</td>\n",
              "      <td>-16</td>\n",
              "      <td>16</td>\n",
              "      <td>0</td>\n",
              "      <td>-15</td>\n",
              "      <td>...</td>\n",
              "      <td>-9</td>\n",
              "      <td>12</td>\n",
              "      <td>-19</td>\n",
              "      <td>8</td>\n",
              "      <td>-12</td>\n",
              "      <td>17</td>\n",
              "      <td>-8</td>\n",
              "      <td>-18</td>\n",
              "      <td>14</td>\n",
              "      <td>-6</td>\n",
              "    </tr>\n",
              "    <tr>\n",
              "      <th>4</th>\n",
              "      <td>18</td>\n",
              "      <td>0</td>\n",
              "      <td>-19</td>\n",
              "      <td>-16</td>\n",
              "      <td>-5</td>\n",
              "      <td>20</td>\n",
              "      <td>-17</td>\n",
              "      <td>16</td>\n",
              "      <td>-2</td>\n",
              "      <td>-14</td>\n",
              "      <td>...</td>\n",
              "      <td>-9</td>\n",
              "      <td>12</td>\n",
              "      <td>-19</td>\n",
              "      <td>6</td>\n",
              "      <td>-12</td>\n",
              "      <td>17</td>\n",
              "      <td>-8</td>\n",
              "      <td>-16</td>\n",
              "      <td>15</td>\n",
              "      <td>-4</td>\n",
              "    </tr>\n",
              "  </tbody>\n",
              "</table>\n",
              "<p>5 rows × 2001 columns</p>\n",
              "</div>"
            ],
            "text/plain": [
              "    0  1   2   3  4   5   6   7  8   9  ...  1991  1992  1993  1994  1995  \\\n",
              "0  18  1 -19 -16 -5  19 -15  15 -1 -16  ...    -9    12   -18     6   -12   \n",
              "1  18  0 -19 -17 -6  19 -17  16  0 -15  ...    -9    11   -19     7   -12   \n",
              "2  17 -1 -20 -17 -6  19 -17  15 -3 -15  ...    -9    11   -20     4   -13   \n",
              "3  18  1 -19 -16 -5  20 -16  16  0 -15  ...    -9    12   -19     8   -12   \n",
              "4  18  0 -19 -16 -5  20 -17  16 -2 -14  ...    -9    12   -19     6   -12   \n",
              "\n",
              "   1996  1997  1998  1999  2000  \n",
              "0    17    -7   -16    16    -4  \n",
              "1    17    -8   -16    16    -4  \n",
              "2    17    -8   -17    16    -5  \n",
              "3    17    -8   -18    14    -6  \n",
              "4    17    -8   -16    15    -4  \n",
              "\n",
              "[5 rows x 2001 columns]"
            ]
          },
          "execution_count": 5,
          "metadata": {},
          "output_type": "execute_result"
        }
      ],
      "source": [
        "train.head()"
      ]
    },
    {
      "cell_type": "code",
      "execution_count": null,
      "metadata": {
        "id": "RJBC1hCIBzQm",
        "outputId": "838e6baa-7158-4d56-fc28-1c655ce487b5"
      },
      "outputs": [
        {
          "data": {
            "text/plain": [
              "(800000, 2001)"
            ]
          },
          "execution_count": 6,
          "metadata": {},
          "output_type": "execute_result"
        }
      ],
      "source": [
        "train.shape"
      ]
    },
    {
      "cell_type": "code",
      "execution_count": null,
      "metadata": {
        "id": "UN5sl_9ABzQn",
        "outputId": "6f6fb88e-6181-4a1d-a40e-ec3abf5e03c0"
      },
      "outputs": [
        {
          "data": {
            "text/html": [
              "<div>\n",
              "<style scoped>\n",
              "    .dataframe tbody tr th:only-of-type {\n",
              "        vertical-align: middle;\n",
              "    }\n",
              "\n",
              "    .dataframe tbody tr th {\n",
              "        vertical-align: top;\n",
              "    }\n",
              "\n",
              "    .dataframe thead th {\n",
              "        text-align: right;\n",
              "    }\n",
              "</style>\n",
              "<table border=\"1\" class=\"dataframe\">\n",
              "  <thead>\n",
              "    <tr style=\"text-align: right;\">\n",
              "      <th></th>\n",
              "      <th>signal_id</th>\n",
              "      <th>id_measurement</th>\n",
              "      <th>phase</th>\n",
              "      <th>target</th>\n",
              "    </tr>\n",
              "  </thead>\n",
              "  <tbody>\n",
              "    <tr>\n",
              "      <th>0</th>\n",
              "      <td>0</td>\n",
              "      <td>0</td>\n",
              "      <td>0</td>\n",
              "      <td>0</td>\n",
              "    </tr>\n",
              "    <tr>\n",
              "      <th>1</th>\n",
              "      <td>1</td>\n",
              "      <td>0</td>\n",
              "      <td>1</td>\n",
              "      <td>0</td>\n",
              "    </tr>\n",
              "    <tr>\n",
              "      <th>2</th>\n",
              "      <td>2</td>\n",
              "      <td>0</td>\n",
              "      <td>2</td>\n",
              "      <td>0</td>\n",
              "    </tr>\n",
              "    <tr>\n",
              "      <th>3</th>\n",
              "      <td>3</td>\n",
              "      <td>1</td>\n",
              "      <td>0</td>\n",
              "      <td>1</td>\n",
              "    </tr>\n",
              "    <tr>\n",
              "      <th>4</th>\n",
              "      <td>4</td>\n",
              "      <td>1</td>\n",
              "      <td>1</td>\n",
              "      <td>1</td>\n",
              "    </tr>\n",
              "  </tbody>\n",
              "</table>\n",
              "</div>"
            ],
            "text/plain": [
              "   signal_id  id_measurement  phase  target\n",
              "0          0               0      0       0\n",
              "1          1               0      1       0\n",
              "2          2               0      2       0\n",
              "3          3               1      0       1\n",
              "4          4               1      1       1"
            ]
          },
          "execution_count": 7,
          "metadata": {},
          "output_type": "execute_result"
        }
      ],
      "source": [
        "metadata.head()"
      ]
    },
    {
      "cell_type": "code",
      "execution_count": null,
      "metadata": {
        "id": "Nn8VxQQSBzQn",
        "outputId": "b85f9388-6714-4385-d839-40002cf94278"
      },
      "outputs": [
        {
          "data": {
            "text/plain": [
              "(8712, 4)"
            ]
          },
          "execution_count": 8,
          "metadata": {},
          "output_type": "execute_result"
        }
      ],
      "source": [
        "metadata.shape"
      ]
    },
    {
      "cell_type": "code",
      "execution_count": null,
      "metadata": {
        "id": "-KOltyY-BzQn"
      },
      "outputs": [],
      "source": [
        "train_metadata = metadata[:SIZE]"
      ]
    },
    {
      "cell_type": "code",
      "execution_count": null,
      "metadata": {
        "id": "goRSaO_eBzQo",
        "outputId": "12735598-58c9-4455-c859-2b5cf1633fa0"
      },
      "outputs": [
        {
          "data": {
            "text/plain": [
              "(2001, 4)"
            ]
          },
          "execution_count": 10,
          "metadata": {},
          "output_type": "execute_result"
        }
      ],
      "source": [
        "train_metadata.shape"
      ]
    },
    {
      "cell_type": "code",
      "execution_count": null,
      "metadata": {
        "id": "-PVG4v_xBzQp"
      },
      "outputs": [],
      "source": [
        "train = train.T"
      ]
    },
    {
      "cell_type": "code",
      "execution_count": null,
      "metadata": {
        "id": "Ttwi8ucoBzQp",
        "outputId": "6e4f0c2a-425d-4bde-9ffa-bb14606962ea"
      },
      "outputs": [
        {
          "data": {
            "text/html": [
              "<div>\n",
              "<style scoped>\n",
              "    .dataframe tbody tr th:only-of-type {\n",
              "        vertical-align: middle;\n",
              "    }\n",
              "\n",
              "    .dataframe tbody tr th {\n",
              "        vertical-align: top;\n",
              "    }\n",
              "\n",
              "    .dataframe thead th {\n",
              "        text-align: right;\n",
              "    }\n",
              "</style>\n",
              "<table border=\"1\" class=\"dataframe\">\n",
              "  <thead>\n",
              "    <tr style=\"text-align: right;\">\n",
              "      <th></th>\n",
              "      <th>0</th>\n",
              "      <th>1</th>\n",
              "      <th>2</th>\n",
              "      <th>3</th>\n",
              "      <th>4</th>\n",
              "      <th>5</th>\n",
              "      <th>6</th>\n",
              "      <th>7</th>\n",
              "      <th>8</th>\n",
              "      <th>9</th>\n",
              "      <th>...</th>\n",
              "      <th>799990</th>\n",
              "      <th>799991</th>\n",
              "      <th>799992</th>\n",
              "      <th>799993</th>\n",
              "      <th>799994</th>\n",
              "      <th>799995</th>\n",
              "      <th>799996</th>\n",
              "      <th>799997</th>\n",
              "      <th>799998</th>\n",
              "      <th>799999</th>\n",
              "    </tr>\n",
              "  </thead>\n",
              "  <tbody>\n",
              "    <tr>\n",
              "      <th>0</th>\n",
              "      <td>18</td>\n",
              "      <td>18</td>\n",
              "      <td>17</td>\n",
              "      <td>18</td>\n",
              "      <td>18</td>\n",
              "      <td>18</td>\n",
              "      <td>19</td>\n",
              "      <td>18</td>\n",
              "      <td>18</td>\n",
              "      <td>17</td>\n",
              "      <td>...</td>\n",
              "      <td>18</td>\n",
              "      <td>18</td>\n",
              "      <td>17</td>\n",
              "      <td>17</td>\n",
              "      <td>18</td>\n",
              "      <td>19</td>\n",
              "      <td>19</td>\n",
              "      <td>17</td>\n",
              "      <td>19</td>\n",
              "      <td>17</td>\n",
              "    </tr>\n",
              "    <tr>\n",
              "      <th>1</th>\n",
              "      <td>1</td>\n",
              "      <td>0</td>\n",
              "      <td>-1</td>\n",
              "      <td>1</td>\n",
              "      <td>0</td>\n",
              "      <td>0</td>\n",
              "      <td>1</td>\n",
              "      <td>0</td>\n",
              "      <td>0</td>\n",
              "      <td>0</td>\n",
              "      <td>...</td>\n",
              "      <td>1</td>\n",
              "      <td>0</td>\n",
              "      <td>0</td>\n",
              "      <td>0</td>\n",
              "      <td>0</td>\n",
              "      <td>2</td>\n",
              "      <td>1</td>\n",
              "      <td>0</td>\n",
              "      <td>1</td>\n",
              "      <td>0</td>\n",
              "    </tr>\n",
              "  </tbody>\n",
              "</table>\n",
              "<p>2 rows × 800000 columns</p>\n",
              "</div>"
            ],
            "text/plain": [
              "   0       1       2       3       4       5       6       7       8       \\\n",
              "0      18      18      17      18      18      18      19      18      18   \n",
              "1       1       0      -1       1       0       0       1       0       0   \n",
              "\n",
              "   9       ...  799990  799991  799992  799993  799994  799995  799996  \\\n",
              "0      17  ...      18      18      17      17      18      19      19   \n",
              "1       0  ...       1       0       0       0       0       2       1   \n",
              "\n",
              "   799997  799998  799999  \n",
              "0      17      19      17  \n",
              "1       0       1       0  \n",
              "\n",
              "[2 rows x 800000 columns]"
            ]
          },
          "execution_count": 12,
          "metadata": {},
          "output_type": "execute_result"
        }
      ],
      "source": [
        "train.head(2)"
      ]
    },
    {
      "cell_type": "code",
      "execution_count": null,
      "metadata": {
        "id": "jh2hTho9BzQq"
      },
      "outputs": [],
      "source": [
        "train['signal_id'] = list(train_metadata['signal_id'])"
      ]
    },
    {
      "cell_type": "code",
      "execution_count": null,
      "metadata": {
        "id": "YdbeBjd3BzQq",
        "outputId": "b037b5cd-86a9-4015-cbf3-bdd4fa060685"
      },
      "outputs": [
        {
          "data": {
            "text/html": [
              "<div>\n",
              "<style scoped>\n",
              "    .dataframe tbody tr th:only-of-type {\n",
              "        vertical-align: middle;\n",
              "    }\n",
              "\n",
              "    .dataframe tbody tr th {\n",
              "        vertical-align: top;\n",
              "    }\n",
              "\n",
              "    .dataframe thead th {\n",
              "        text-align: right;\n",
              "    }\n",
              "</style>\n",
              "<table border=\"1\" class=\"dataframe\">\n",
              "  <thead>\n",
              "    <tr style=\"text-align: right;\">\n",
              "      <th></th>\n",
              "      <th>0</th>\n",
              "      <th>1</th>\n",
              "      <th>2</th>\n",
              "      <th>3</th>\n",
              "      <th>4</th>\n",
              "      <th>5</th>\n",
              "      <th>6</th>\n",
              "      <th>7</th>\n",
              "      <th>8</th>\n",
              "      <th>9</th>\n",
              "      <th>...</th>\n",
              "      <th>799991</th>\n",
              "      <th>799992</th>\n",
              "      <th>799993</th>\n",
              "      <th>799994</th>\n",
              "      <th>799995</th>\n",
              "      <th>799996</th>\n",
              "      <th>799997</th>\n",
              "      <th>799998</th>\n",
              "      <th>799999</th>\n",
              "      <th>signal_id</th>\n",
              "    </tr>\n",
              "  </thead>\n",
              "  <tbody>\n",
              "    <tr>\n",
              "      <th>0</th>\n",
              "      <td>18</td>\n",
              "      <td>18</td>\n",
              "      <td>17</td>\n",
              "      <td>18</td>\n",
              "      <td>18</td>\n",
              "      <td>18</td>\n",
              "      <td>19</td>\n",
              "      <td>18</td>\n",
              "      <td>18</td>\n",
              "      <td>17</td>\n",
              "      <td>...</td>\n",
              "      <td>18</td>\n",
              "      <td>17</td>\n",
              "      <td>17</td>\n",
              "      <td>18</td>\n",
              "      <td>19</td>\n",
              "      <td>19</td>\n",
              "      <td>17</td>\n",
              "      <td>19</td>\n",
              "      <td>17</td>\n",
              "      <td>0</td>\n",
              "    </tr>\n",
              "    <tr>\n",
              "      <th>1</th>\n",
              "      <td>1</td>\n",
              "      <td>0</td>\n",
              "      <td>-1</td>\n",
              "      <td>1</td>\n",
              "      <td>0</td>\n",
              "      <td>0</td>\n",
              "      <td>1</td>\n",
              "      <td>0</td>\n",
              "      <td>0</td>\n",
              "      <td>0</td>\n",
              "      <td>...</td>\n",
              "      <td>0</td>\n",
              "      <td>0</td>\n",
              "      <td>0</td>\n",
              "      <td>0</td>\n",
              "      <td>2</td>\n",
              "      <td>1</td>\n",
              "      <td>0</td>\n",
              "      <td>1</td>\n",
              "      <td>0</td>\n",
              "      <td>1</td>\n",
              "    </tr>\n",
              "  </tbody>\n",
              "</table>\n",
              "<p>2 rows × 800001 columns</p>\n",
              "</div>"
            ],
            "text/plain": [
              "    0   1   2   3   4   5   6   7   8   9  ...  799991  799992  799993  \\\n",
              "0  18  18  17  18  18  18  19  18  18  17  ...      18      17      17   \n",
              "1   1   0  -1   1   0   0   1   0   0   0  ...       0       0       0   \n",
              "\n",
              "   799994  799995  799996  799997  799998  799999  signal_id  \n",
              "0      18      19      19      17      19      17          0  \n",
              "1       0       2       1       0       1       0          1  \n",
              "\n",
              "[2 rows x 800001 columns]"
            ]
          },
          "execution_count": 14,
          "metadata": {},
          "output_type": "execute_result"
        }
      ],
      "source": [
        "train.head(2)"
      ]
    },
    {
      "cell_type": "markdown",
      "metadata": {
        "id": "wWLtXPTBBzQs"
      },
      "source": [
        "# Checking for null values in the dataframe"
      ]
    },
    {
      "cell_type": "code",
      "execution_count": null,
      "metadata": {
        "id": "Y_aiXVCQBzQs",
        "outputId": "6b476917-719d-4b55-c0ea-828ea2a865f6"
      },
      "outputs": [
        {
          "data": {
            "text/plain": [
              "0"
            ]
          },
          "execution_count": 17,
          "metadata": {},
          "output_type": "execute_result"
        }
      ],
      "source": [
        "train.isnull().sum().sum()"
      ]
    },
    {
      "cell_type": "code",
      "execution_count": null,
      "metadata": {
        "id": "ZDX5z4yFBzQt",
        "outputId": "50fbba88-b130-462e-8a06-739326df46b3"
      },
      "outputs": [
        {
          "data": {
            "image/png": "[encoded data removed]",
            "text/plain": [
              "<Figure size 1008x288 with 2 Axes>"
            ]
          },
          "metadata": {
            "needs_background": "light"
          },
          "output_type": "display_data"
        }
      ],
      "source": [
        "# Plotting count vs target plots to check data imbalance\n",
        "\n",
        "fig, (ax1, ax2) = plt.subplots(1, 2, figsize=(14, 4))\n",
        "sns.countplot(x=\"target\", data=train, ax=ax1)\n",
        "sns.countplot(x=\"target\", data=train, hue=\"phase\", ax=ax2);"
      ]
    },
    {
      "cell_type": "code",
      "execution_count": null,
      "metadata": {
        "id": "MV4rwR3QBzQv",
        "outputId": "b0043cc8-351d-4282-aef8-bcdfb947b800"
      },
      "outputs": [
        {
          "data": {
            "image/png": "[encoded data removed]",
            "text/plain": [
              "<Figure size 2880x468 with 1 Axes>"
            ]
          },
          "metadata": {},
          "output_type": "display_data"
        }
      ],
      "source": [
        "# Percentage of positive and negative target values\n",
        "plt.rcParams[\"figure.figsize\"] = (40,6.5)\n",
        "data = train['target'].value_counts()\n",
        "labels = ['Target 0', 'Target 1']\n",
        "colors = [\"#1f77b4\", \"#ff7f0e\"]\n",
        "title = 'Count of signals distributed by phase'\n",
        "explodes = [0, 0.1]\n",
        "plt.pie(data,explode=explodes, labels=labels, colors=colors, shadow=True, startangle=20, autopct='%.1f%%')\n",
        "plt.title(title, bbox={'facecolor':'0.8', 'pad':5})\n",
        "plt.show()"
      ]
    },
    {
      "cell_type": "code",
      "execution_count": null,
      "metadata": {
        "id": "dVObvazgBzQv",
        "outputId": "5c7580e9-58ed-4014-b9e0-cf14081fae94"
      },
      "outputs": [
        {
          "name": "stdout",
          "output_type": "stream",
          "text": [
            "negative(target=0) target: 1875\n",
            "positive(target=1) target: 126\n",
            "positive data 6.3%\n"
          ]
        }
      ],
      "source": [
        "target_count = train.target.value_counts()\n",
        "print(\"negative(target=0) target: {}\".format(target_count[0]))\n",
        "print(\"positive(target=1) target: {}\".format(target_count[1]))\n",
        "print(\"positive data {:.3}%\".format((target_count[1]/(target_count[0]+target_count[1]))*100))"
      ]
    },
    {
      "cell_type": "code",
      "execution_count": null,
      "metadata": {
        "scrolled": true,
        "id": "IHuMW7DmBzQw",
        "outputId": "1a719d1c-be62-483a-d444-7a472019daa4"
      },
      "outputs": [
        {
          "data": {
            "text/html": [
              "<div>\n",
              "<style scoped>\n",
              "    .dataframe tbody tr th:only-of-type {\n",
              "        vertical-align: middle;\n",
              "    }\n",
              "\n",
              "    .dataframe tbody tr th {\n",
              "        vertical-align: top;\n",
              "    }\n",
              "\n",
              "    .dataframe thead th {\n",
              "        text-align: right;\n",
              "    }\n",
              "</style>\n",
              "<table border=\"1\" class=\"dataframe\">\n",
              "  <thead>\n",
              "    <tr style=\"text-align: right;\">\n",
              "      <th></th>\n",
              "      <th>id_measurement</th>\n",
              "      <th>phase</th>\n",
              "    </tr>\n",
              "  </thead>\n",
              "  <tbody>\n",
              "    <tr>\n",
              "      <th>0</th>\n",
              "      <td>0</td>\n",
              "      <td>0</td>\n",
              "    </tr>\n",
              "    <tr>\n",
              "      <th>1</th>\n",
              "      <td>0</td>\n",
              "      <td>1</td>\n",
              "    </tr>\n",
              "    <tr>\n",
              "      <th>2</th>\n",
              "      <td>0</td>\n",
              "      <td>2</td>\n",
              "    </tr>\n",
              "    <tr>\n",
              "      <th>3</th>\n",
              "      <td>1</td>\n",
              "      <td>0</td>\n",
              "    </tr>\n",
              "    <tr>\n",
              "      <th>4</th>\n",
              "      <td>1</td>\n",
              "      <td>1</td>\n",
              "    </tr>\n",
              "    <tr>\n",
              "      <th>...</th>\n",
              "      <td>...</td>\n",
              "      <td>...</td>\n",
              "    </tr>\n",
              "    <tr>\n",
              "      <th>1996</th>\n",
              "      <td>665</td>\n",
              "      <td>1</td>\n",
              "    </tr>\n",
              "    <tr>\n",
              "      <th>1997</th>\n",
              "      <td>665</td>\n",
              "      <td>2</td>\n",
              "    </tr>\n",
              "    <tr>\n",
              "      <th>1998</th>\n",
              "      <td>666</td>\n",
              "      <td>0</td>\n",
              "    </tr>\n",
              "    <tr>\n",
              "      <th>1999</th>\n",
              "      <td>666</td>\n",
              "      <td>1</td>\n",
              "    </tr>\n",
              "    <tr>\n",
              "      <th>2000</th>\n",
              "      <td>666</td>\n",
              "      <td>2</td>\n",
              "    </tr>\n",
              "  </tbody>\n",
              "</table>\n",
              "<p>2001 rows × 2 columns</p>\n",
              "</div>"
            ],
            "text/plain": [
              "      id_measurement  phase\n",
              "0                  0      0\n",
              "1                  0      1\n",
              "2                  0      2\n",
              "3                  1      0\n",
              "4                  1      1\n",
              "...              ...    ...\n",
              "1996             665      1\n",
              "1997             665      2\n",
              "1998             666      0\n",
              "1999             666      1\n",
              "2000             666      2\n",
              "\n",
              "[2001 rows x 2 columns]"
            ]
          },
          "execution_count": 21,
          "metadata": {},
          "output_type": "execute_result"
        }
      ],
      "source": [
        "train[['id_measurement', 'phase']]"
      ]
    },
    {
      "cell_type": "code",
      "execution_count": null,
      "metadata": {
        "id": "1pn9-pb9BzQw",
        "outputId": "22112c0a-b956-404d-ac41-adec84bf6bf4"
      },
      "outputs": [
        {
          "name": "stdout",
          "output_type": "stream",
          "text": [
            "Target values not all postive or negative for same signal: 11\n"
          ]
        },
        {
          "data": {
            "text/html": [
              "<div>\n",
              "<style scoped>\n",
              "    .dataframe tbody tr th:only-of-type {\n",
              "        vertical-align: middle;\n",
              "    }\n",
              "\n",
              "    .dataframe tbody tr th {\n",
              "        vertical-align: top;\n",
              "    }\n",
              "\n",
              "    .dataframe thead th {\n",
              "        text-align: right;\n",
              "    }\n",
              "</style>\n",
              "<table border=\"1\" class=\"dataframe\">\n",
              "  <thead>\n",
              "    <tr style=\"text-align: right;\">\n",
              "      <th></th>\n",
              "      <th>target</th>\n",
              "    </tr>\n",
              "    <tr>\n",
              "      <th>id_measurement</th>\n",
              "      <th></th>\n",
              "    </tr>\n",
              "  </thead>\n",
              "  <tbody>\n",
              "    <tr>\n",
              "      <th>67</th>\n",
              "      <td>2</td>\n",
              "    </tr>\n",
              "    <tr>\n",
              "      <th>96</th>\n",
              "      <td>1</td>\n",
              "    </tr>\n",
              "    <tr>\n",
              "      <th>126</th>\n",
              "      <td>1</td>\n",
              "    </tr>\n",
              "    <tr>\n",
              "      <th>159</th>\n",
              "      <td>1</td>\n",
              "    </tr>\n",
              "    <tr>\n",
              "      <th>271</th>\n",
              "      <td>1</td>\n",
              "    </tr>\n",
              "    <tr>\n",
              "      <th>301</th>\n",
              "      <td>1</td>\n",
              "    </tr>\n",
              "    <tr>\n",
              "      <th>443</th>\n",
              "      <td>1</td>\n",
              "    </tr>\n",
              "    <tr>\n",
              "      <th>518</th>\n",
              "      <td>1</td>\n",
              "    </tr>\n",
              "    <tr>\n",
              "      <th>601</th>\n",
              "      <td>2</td>\n",
              "    </tr>\n",
              "    <tr>\n",
              "      <th>608</th>\n",
              "      <td>2</td>\n",
              "    </tr>\n",
              "    <tr>\n",
              "      <th>620</th>\n",
              "      <td>2</td>\n",
              "    </tr>\n",
              "  </tbody>\n",
              "</table>\n",
              "</div>"
            ],
            "text/plain": [
              "                target\n",
              "id_measurement        \n",
              "67                   2\n",
              "96                   1\n",
              "126                  1\n",
              "159                  1\n",
              "271                  1\n",
              "301                  1\n",
              "443                  1\n",
              "518                  1\n",
              "601                  2\n",
              "608                  2\n",
              "620                  2"
            ]
          },
          "execution_count": 22,
          "metadata": {},
          "output_type": "execute_result"
        }
      ],
      "source": [
        "target_mismatch = train[[\"id_measurement\", \"target\"]].groupby([\"id_measurement\"]).sum().query(\"target != 3 & target != 0\")\n",
        "print(\"Target values not all postive or negative for same signal: {}\".format(target_mismatch.shape[0]))\n",
        "target_mismatch"
      ]
    },
    {
      "cell_type": "code",
      "execution_count": null,
      "metadata": {
        "id": "w9Q9LwXjBzQx",
        "outputId": "8cd3ee37-1263-47cd-a7d3-390c5f56dd43"
      },
      "outputs": [
        {
          "data": {
            "text/html": [
              "<div>\n",
              "<style scoped>\n",
              "    .dataframe tbody tr th:only-of-type {\n",
              "        vertical-align: middle;\n",
              "    }\n",
              "\n",
              "    .dataframe tbody tr th {\n",
              "        vertical-align: top;\n",
              "    }\n",
              "\n",
              "    .dataframe thead th {\n",
              "        text-align: right;\n",
              "    }\n",
              "</style>\n",
              "<table border=\"1\" class=\"dataframe\">\n",
              "  <thead>\n",
              "    <tr style=\"text-align: right;\">\n",
              "      <th></th>\n",
              "      <th>0</th>\n",
              "      <th>1</th>\n",
              "      <th>2</th>\n",
              "      <th>3</th>\n",
              "      <th>4</th>\n",
              "      <th>5</th>\n",
              "      <th>6</th>\n",
              "      <th>7</th>\n",
              "      <th>8</th>\n",
              "      <th>9</th>\n",
              "      <th>...</th>\n",
              "      <th>799994</th>\n",
              "      <th>799995</th>\n",
              "      <th>799996</th>\n",
              "      <th>799997</th>\n",
              "      <th>799998</th>\n",
              "      <th>799999</th>\n",
              "      <th>signal_id</th>\n",
              "      <th>id_measurement</th>\n",
              "      <th>phase</th>\n",
              "      <th>target</th>\n",
              "    </tr>\n",
              "  </thead>\n",
              "  <tbody>\n",
              "    <tr>\n",
              "      <th>201</th>\n",
              "      <td>-22</td>\n",
              "      <td>-23</td>\n",
              "      <td>-24</td>\n",
              "      <td>-21</td>\n",
              "      <td>-25</td>\n",
              "      <td>-21</td>\n",
              "      <td>-22</td>\n",
              "      <td>-22</td>\n",
              "      <td>-20</td>\n",
              "      <td>-23</td>\n",
              "      <td>...</td>\n",
              "      <td>-22</td>\n",
              "      <td>-21</td>\n",
              "      <td>-23</td>\n",
              "      <td>-21</td>\n",
              "      <td>-23</td>\n",
              "      <td>-22</td>\n",
              "      <td>201</td>\n",
              "      <td>67</td>\n",
              "      <td>0</td>\n",
              "      <td>1</td>\n",
              "    </tr>\n",
              "    <tr>\n",
              "      <th>202</th>\n",
              "      <td>14</td>\n",
              "      <td>13</td>\n",
              "      <td>11</td>\n",
              "      <td>15</td>\n",
              "      <td>11</td>\n",
              "      <td>15</td>\n",
              "      <td>13</td>\n",
              "      <td>13</td>\n",
              "      <td>15</td>\n",
              "      <td>11</td>\n",
              "      <td>...</td>\n",
              "      <td>13</td>\n",
              "      <td>15</td>\n",
              "      <td>12</td>\n",
              "      <td>15</td>\n",
              "      <td>13</td>\n",
              "      <td>14</td>\n",
              "      <td>202</td>\n",
              "      <td>67</td>\n",
              "      <td>1</td>\n",
              "      <td>1</td>\n",
              "    </tr>\n",
              "    <tr>\n",
              "      <th>203</th>\n",
              "      <td>8</td>\n",
              "      <td>6</td>\n",
              "      <td>5</td>\n",
              "      <td>8</td>\n",
              "      <td>5</td>\n",
              "      <td>9</td>\n",
              "      <td>6</td>\n",
              "      <td>8</td>\n",
              "      <td>9</td>\n",
              "      <td>6</td>\n",
              "      <td>...</td>\n",
              "      <td>7</td>\n",
              "      <td>8</td>\n",
              "      <td>5</td>\n",
              "      <td>9</td>\n",
              "      <td>6</td>\n",
              "      <td>7</td>\n",
              "      <td>203</td>\n",
              "      <td>67</td>\n",
              "      <td>2</td>\n",
              "      <td>0</td>\n",
              "    </tr>\n",
              "  </tbody>\n",
              "</table>\n",
              "<p>3 rows × 800004 columns</p>\n",
              "</div>"
            ],
            "text/plain": [
              "      0   1   2   3   4   5   6   7   8   9  ...  799994  799995  799996  \\\n",
              "201 -22 -23 -24 -21 -25 -21 -22 -22 -20 -23  ...     -22     -21     -23   \n",
              "202  14  13  11  15  11  15  13  13  15  11  ...      13      15      12   \n",
              "203   8   6   5   8   5   9   6   8   9   6  ...       7       8       5   \n",
              "\n",
              "     799997  799998  799999  signal_id  id_measurement  phase  target  \n",
              "201     -21     -23     -22        201              67      0       1  \n",
              "202      15      13      14        202              67      1       1  \n",
              "203       9       6       7        203              67      2       0  \n",
              "\n",
              "[3 rows x 800004 columns]"
            ]
          },
          "execution_count": 23,
          "metadata": {},
          "output_type": "execute_result"
        }
      ],
      "source": [
        "train[train['id_measurement'] == 67]"
      ]
    },
    {
      "cell_type": "code",
      "execution_count": null,
      "metadata": {
        "id": "JHaBWW-IBzQy",
        "outputId": "5b05e50b-84ef-4261-a577-b1a3f71152a8"
      },
      "outputs": [
        {
          "name": "stdout",
          "output_type": "stream",
          "text": [
            "id_measurement have 667 unique values\n"
          ]
        }
      ],
      "source": [
        "print(\"id_measurement have {} unique values\".format(train.id_measurement.nunique()))"
      ]
    },
    {
      "cell_type": "markdown",
      "metadata": {
        "id": "xPGW-PmoBzQy"
      },
      "source": [
        "### Basic description of the id_measurement column "
      ]
    },
    {
      "cell_type": "code",
      "execution_count": null,
      "metadata": {
        "id": "zDhyta0iBzQz",
        "outputId": "a46312b5-c1bd-4d89-fad6-d6279632ec3c"
      },
      "outputs": [
        {
          "data": {
            "text/plain": [
              "count    667.0\n",
              "mean       3.0\n",
              "std        0.0\n",
              "min        3.0\n",
              "25%        3.0\n",
              "50%        3.0\n",
              "75%        3.0\n",
              "max        3.0\n",
              "Name: id_measurement, dtype: float64"
            ]
          },
          "execution_count": 25,
          "metadata": {},
          "output_type": "execute_result"
        }
      ],
      "source": [
        "train.id_measurement.value_counts().describe()"
      ]
    },
    {
      "cell_type": "code",
      "execution_count": null,
      "metadata": {
        "scrolled": true,
        "id": "MXqnFzipBzQz",
        "outputId": "076d71b5-7934-4f21-a8bc-7b0547d469da"
      },
      "outputs": [
        {
          "name": "stdout",
          "output_type": "stream",
          "text": [
            "phase have 3 unique values [0 1 2] in train\n"
          ]
        }
      ],
      "source": [
        "print(\"phase have {} unique values {} in train\".format(len(train.phase.unique()),train.phase.unique()))"
      ]
    },
    {
      "cell_type": "code",
      "execution_count": null,
      "metadata": {
        "id": "DamP14w-BzQ0",
        "outputId": "8e9c4df1-8ea6-45b1-b496-2b0ec2a31949"
      },
      "outputs": [
        {
          "data": {
            "image/png": "[encoded data removed]",
            "text/plain": [
              "<Figure size 2880x468 with 1 Axes>"
            ]
          },
          "metadata": {
            "needs_background": "light"
          },
          "output_type": "display_data"
        }
      ],
      "source": [
        "sns.countplot(train['phase']);"
      ]
    },
    {
      "cell_type": "code",
      "execution_count": null,
      "metadata": {
        "id": "KI8BQf7KBzQ0",
        "outputId": "8103dd99-058f-4e7d-e937-f46fefc7f1ee"
      },
      "outputs": [
        {
          "data": {
            "image/png": "[encoded data removed]",
            "text/plain": [
              "<Figure size 2880x468 with 1 Axes>"
            ]
          },
          "metadata": {},
          "output_type": "display_data"
        }
      ],
      "source": [
        "data = train['phase'].value_counts()\n",
        "labels = ['Phase 0', 'Phase 1', 'Phase 3']\n",
        "colors = [\"#1f77b4\", \"#ff7f0e\", \"#2ca02c\"]\n",
        "title = 'Count of signals distributed by phase'\n",
        "plt.pie(data, labels=labels, colors=colors, shadow=True, startangle=90, autopct='%.1f%%')\n",
        "plt.title(title, bbox={'facecolor':'0.8', 'pad':5})\n",
        "plt.show()"
      ]
    }
  ],
  "metadata": {
    "kernelspec": {
      "display_name": "Python 3",
      "language": "python",
      "name": "python3"
    },
    "language_info": {
      "codemirror_mode": {
        "name": "ipython",
        "version": 3
      },
      "file_extension": ".py",
      "mimetype": "text/x-python",
      "name": "python",
      "nbconvert_exporter": "python",
      "pygments_lexer": "ipython3",
      "version": "3.7.6"
    },
    "colab": {
      "name": "FSM-PowerLineFaultDetection.ipynb",
      "provenance": [],
      "collapsed_sections": []
    }
  },
  "nbformat": 4,
  "nbformat_minor": 0
}